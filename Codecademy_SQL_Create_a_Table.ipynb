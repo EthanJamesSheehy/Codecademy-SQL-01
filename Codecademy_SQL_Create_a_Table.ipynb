{
 "cells": [
  {
   "cell_type": "code",
   "execution_count": null,
   "metadata": {},
   "outputs": [],
   "source": [
    "CREATE TABLE friends (\n",
    "  id INTEGER,\n",
    "  name TEXT,\n",
    "  birthday DATE\n",
    ");"
   ]
  },
  {
   "cell_type": "code",
   "execution_count": null,
   "metadata": {},
   "outputs": [],
   "source": [
    "INSERT INTO friends (id, name, birthday)\n",
    "VALUES (1, 'Jane Doe', '1990-05-30');\n",
    "INSERT INTO friends (id, name, birthday)\n",
    "VALUES (2, 'John Smith', '1988-01-15');\n",
    "INSERT INTO friends (id, name, birthday)\n",
    "VALUES (3, 'Bill Doe', '1992-07-05');"
   ]
  },
  {
   "cell_type": "code",
   "execution_count": null,
   "metadata": {},
   "outputs": [],
   "source": [
    "UPDATE friends\n",
    "SET name = 'Jane Smith'\n",
    "WHERE id = 1;"
   ]
  },
  {
   "cell_type": "code",
   "execution_count": null,
   "metadata": {},
   "outputs": [],
   "source": [
    "ALTER TABLE friends\n",
    "ADD COLUMN email TEXT;"
   ]
  },
  {
   "cell_type": "code",
   "execution_count": null,
   "metadata": {},
   "outputs": [],
   "source": [
    "UPDATE friends\n",
    "SET email = 'jane@codecademy.com'\n",
    "WHERE id = 1;\n",
    "UPDATE friends\n",
    "SET email = 'John@codecademy.com'\n",
    "WHERE id = 2;\n",
    "UPDATE friends\n",
    "SET email = 'bill@codecademy.com'\n",
    "WHERE id = 3;"
   ]
  },
  {
   "cell_type": "code",
   "execution_count": null,
   "metadata": {},
   "outputs": [],
   "source": [
    "DELETE FROM friends\n",
    "WHERE id = 1;"
   ]
  },
  {
   "cell_type": "code",
   "execution_count": null,
   "metadata": {},
   "outputs": [],
   "source": [
    "SELECT * FROM friends;"
   ]
  }
 ],
 "metadata": {
  "kernelspec": {
   "display_name": "Python 3",
   "language": "python",
   "name": "python3"
  }
 },
 "nbformat": 4,
 "nbformat_minor": 4
}
